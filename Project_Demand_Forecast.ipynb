{
  "nbformat": 4,
  "nbformat_minor": 0,
  "metadata": {
    "colab": {
      "provenance": [],
      "gpuType": "T4"
    },
    "kernelspec": {
      "name": "python3",
      "display_name": "Python 3"
    },
    "language_info": {
      "name": "python"
    }
  },
  "cells": [
    {
      "cell_type": "code",
      "execution_count": 1,
      "metadata": {
        "colab": {
          "base_uri": "https://localhost:8080/"
        },
        "id": "TFGlB9RciO7q",
        "outputId": "c0b0a0d2-d01c-4a4d-8029-3dcbf44b21fa"
      },
      "outputs": [
        {
          "output_type": "stream",
          "name": "stdout",
          "text": [
            "Drive already mounted at /content/drive; to attempt to forcibly remount, call drive.mount(\"/content/drive\", force_remount=True).\n"
          ]
        }
      ],
      "source": [
        "from google.colab import drive; drive.mount('/content/drive')"
      ]
    },
    {
      "cell_type": "code",
      "source": [
        "#Импортируем необходимые библиотеки\n",
        "import numpy as np\n",
        "import pandas as pd\n",
        "import datetime"
      ],
      "metadata": {
        "id": "z0MnGGMfihxe"
      },
      "execution_count": 2,
      "outputs": []
    },
    {
      "cell_type": "code",
      "source": [
        "#Загружаем данные\n",
        "train = pd.read_csv(\"/content/drive/MyDrive/train.csv\")\n",
        "test = pd.read_csv(\"/content/drive/MyDrive/test.csv\")\n",
        "submission = pd.read_csv(\"/content/drive/MyDrive/sample_submission.csv\")\n",
        "submission[\"demand\"] = submission[\"demand\"].astype(float)"
      ],
      "metadata": {
        "id": "CIUDDArjiq86"
      },
      "execution_count": 3,
      "outputs": []
    },
    {
      "cell_type": "markdown",
      "source": [
        "Формируем обучающую и тестовыю выборки"
      ],
      "metadata": {
        "id": "aR3dO33Zis3e"
      }
    },
    {
      "cell_type": "code",
      "source": [
        "#Обучающаяя\n",
        "df = train.copy()\n",
        "df=df.dropna(subset=['demand'])#Удаляем с пустым demand\n",
        "df=df.dropna(subset=['PRICE_REGULAR'])#Удаляем с пустой ценой\n",
        "df[\"product_id\"] = df[\"product_id\"].astype(int)#все в int!\n",
        "df[\"location_id\"] = df[\"location_id\"].astype(int)\n",
        "df[\"period_dt\"] = pd.to_datetime(df[\"period_dt\"], dayfirst=True)#На всякий случай в datetime"
      ],
      "metadata": {
        "id": "q5HlMRPWizDB"
      },
      "execution_count": 4,
      "outputs": []
    },
    {
      "cell_type": "code",
      "source": [
        "df=df[(pd.DatetimeIndex(df['period_dt']).month ==12)]#Оставляем только декабрь"
      ],
      "metadata": {
        "id": "UYRTSXtTjLSg"
      },
      "execution_count": 5,
      "outputs": []
    },
    {
      "cell_type": "code",
      "source": [
        "#Тестовая\n",
        "test = pd.read_csv(\"/content/drive/MyDrive/test.csv\")\n",
        "df1 = test.copy()\n",
        "df1[\"period_dt\"] = pd.to_datetime(df1[\"period_dt\"], dayfirst=True)"
      ],
      "metadata": {
        "id": "CMbGcmr0jXL9"
      },
      "execution_count": 6,
      "outputs": []
    },
    {
      "cell_type": "markdown",
      "source": [
        "Формируем новые признаки"
      ],
      "metadata": {
        "id": "PtbO--9llPXs"
      }
    },
    {
      "cell_type": "code",
      "source": [
        "df['year'] = df['period_dt'].dt.year#Год\n",
        "df['days'] = df['period_dt'].dt.day#день\n",
        "df['week_number'] = df['period_dt'].dt.isocalendar().week#номер недели"
      ],
      "metadata": {
        "id": "C9ljcljVlNe6",
        "colab": {
          "base_uri": "https://localhost:8080/"
        },
        "outputId": "6ba86dd0-9714-45c9-eadd-2eb170e017d1"
      },
      "execution_count": 7,
      "outputs": [
        {
          "output_type": "stream",
          "name": "stderr",
          "text": [
            "<ipython-input-7-c2f6d401ab44>:1: SettingWithCopyWarning: \n",
            "A value is trying to be set on a copy of a slice from a DataFrame.\n",
            "Try using .loc[row_indexer,col_indexer] = value instead\n",
            "\n",
            "See the caveats in the documentation: https://pandas.pydata.org/pandas-docs/stable/user_guide/indexing.html#returning-a-view-versus-a-copy\n",
            "  df['year'] = df['period_dt'].dt.year#Год\n",
            "<ipython-input-7-c2f6d401ab44>:2: SettingWithCopyWarning: \n",
            "A value is trying to be set on a copy of a slice from a DataFrame.\n",
            "Try using .loc[row_indexer,col_indexer] = value instead\n",
            "\n",
            "See the caveats in the documentation: https://pandas.pydata.org/pandas-docs/stable/user_guide/indexing.html#returning-a-view-versus-a-copy\n",
            "  df['days'] = df['period_dt'].dt.day#день\n",
            "<ipython-input-7-c2f6d401ab44>:3: SettingWithCopyWarning: \n",
            "A value is trying to be set on a copy of a slice from a DataFrame.\n",
            "Try using .loc[row_indexer,col_indexer] = value instead\n",
            "\n",
            "See the caveats in the documentation: https://pandas.pydata.org/pandas-docs/stable/user_guide/indexing.html#returning-a-view-versus-a-copy\n",
            "  df['week_number'] = df['period_dt'].dt.isocalendar().week#номер недели\n"
          ]
        }
      ]
    },
    {
      "cell_type": "markdown",
      "source": [
        "Удаляем из тренировочной признаки, которых нет в тестовой"
      ],
      "metadata": {
        "id": "3_Ni-1Hnk02r"
      }
    },
    {
      "cell_type": "code",
      "source": [
        "#Целевой признак для обучения\n",
        "y = df[\"demand\"]\n",
        "#Формируем обучающие переменные\n",
        "x = df.drop(['demand', 'PROMO1_FLAG','PROMO2_FLAG','PRICE_REGULAR','PRICE_AFTER_DISC','NUM_CONSULTANT','AUTORIZATION_FLAG','period_dt'], axis=1)"
      ],
      "metadata": {
        "id": "tA2k0IhIk_gm"
      },
      "execution_count": 8,
      "outputs": []
    },
    {
      "cell_type": "code",
      "source": [
        "#Разделяем выборки на обучающую и тестовую\n",
        "from sklearn.model_selection import train_test_split\n",
        "x_train, x_test, y_train, y_test = train_test_split(x, y, test_size=0.01)"
      ],
      "metadata": {
        "id": "fvue0zQ7nE0d"
      },
      "execution_count": 9,
      "outputs": []
    },
    {
      "cell_type": "code",
      "source": [
        "import tensorflow as tf\n",
        "from tensorflow import keras\n",
        "from tensorflow.keras import layers"
      ],
      "metadata": {
        "id": "15ViSU-6nILw"
      },
      "execution_count": 10,
      "outputs": []
    },
    {
      "cell_type": "code",
      "source": [
        "#Конвертируем выборки в тензоры\n",
        "x_train = tf.convert_to_tensor(x_train.astype(float))\n",
        "y_train = tf.convert_to_tensor(y_train.astype(float))\n",
        "x_test = tf.convert_to_tensor(x_test.astype(float))\n",
        "y_test = tf.convert_to_tensor(y_test.astype(float))"
      ],
      "metadata": {
        "id": "pf4em_9rnK6i"
      },
      "execution_count": 11,
      "outputs": []
    },
    {
      "cell_type": "code",
      "source": [
        "#Вычисляем нормы по переменным\n",
        "x_norm = tf.linalg.norm(x_train, ord=np.inf, axis=0)\n",
        "y_norm = tf.linalg.norm(y_train, ord=np.inf, axis=0)"
      ],
      "metadata": {
        "id": "acPWI-HanNJ2"
      },
      "execution_count": 12,
      "outputs": []
    },
    {
      "cell_type": "code",
      "source": [
        "#Нормируем выборки\n",
        "x_train = x_train / x_norm\n",
        "y_train = y_train / y_norm\n",
        "\n",
        "x_test = x_test / x_norm\n",
        "y_test = y_test / y_norm"
      ],
      "metadata": {
        "id": "Ir_Chvo-nPbE"
      },
      "execution_count": 13,
      "outputs": []
    },
    {
      "cell_type": "code",
      "source": [
        "#Формируем модель нейросети\n",
        "model = keras.Sequential()\n",
        "model.add(keras.Input(shape=(x_train.shape[1],)))\n",
        "model.add(layers.Dense(200, activation=\"relu\"))\n",
        "model.add(keras.layers.BatchNormalization(axis=1))\n",
        "model.add(layers.Dropout(0.3))\n",
        "model.add(layers.Dense(100, activation=\"relu\"))\n",
        "model.add(layers.Dense(75, activation=\"relu\"))\n",
        "model.add(keras.layers.BatchNormalization(axis=1))\n",
        "model.add(layers.Dropout(0.3))\n",
        "model.add(layers.Dense(60, activation=\"relu\"))\n",
        "model.add(layers.Dense(50, activation=\"relu\"))\n",
        "model.add(keras.layers.BatchNormalization(axis=1))\n",
        "model.add(layers.Dropout(0.3))\n",
        "model.add(layers.Dense(45, activation=\"sigmoid\"))\n",
        "model.add(layers.Dense(40, activation=\"sigmoid\"))\n",
        "model.add(keras.layers.BatchNormalization(axis=1))\n",
        "model.add(layers.Dropout(0.3))\n",
        "model.add(layers.Dense(30, activation=\"sigmoid\"))\n",
        "model.add(layers.Dense(20, activation=\"sigmoid\"))\n",
        "model.add(keras.layers.BatchNormalization(axis=1))\n",
        "model.add(layers.Dropout(0.3))\n",
        "model.add(layers.Dense(13, activation=\"sigmoid\"))\n",
        "model.add(layers.Dense(13, activation=\"sigmoid\"))\n",
        "model.add(layers.Dense(1, activation=\"sigmoid\"))"
      ],
      "metadata": {
        "id": "JDZWnPwonSjQ"
      },
      "execution_count": 14,
      "outputs": []
    },
    {
      "cell_type": "code",
      "source": [
        "model.build()\n",
        "print(model.summary())"
      ],
      "metadata": {
        "colab": {
          "base_uri": "https://localhost:8080/"
        },
        "id": "zpsuxEd2nV3I",
        "outputId": "9aa80b74-68ae-44e3-8097-98de35987185"
      },
      "execution_count": 15,
      "outputs": [
        {
          "output_type": "stream",
          "name": "stdout",
          "text": [
            "Model: \"sequential\"\n",
            "_________________________________________________________________\n",
            " Layer (type)                Output Shape              Param #   \n",
            "=================================================================\n",
            " dense (Dense)               (None, 200)               1400      \n",
            "                                                                 \n",
            " batch_normalization (BatchN  (None, 200)              800       \n",
            " ormalization)                                                   \n",
            "                                                                 \n",
            " dropout (Dropout)           (None, 200)               0         \n",
            "                                                                 \n",
            " dense_1 (Dense)             (None, 100)               20100     \n",
            "                                                                 \n",
            " dense_2 (Dense)             (None, 75)                7575      \n",
            "                                                                 \n",
            " batch_normalization_1 (Batc  (None, 75)               300       \n",
            " hNormalization)                                                 \n",
            "                                                                 \n",
            " dropout_1 (Dropout)         (None, 75)                0         \n",
            "                                                                 \n",
            " dense_3 (Dense)             (None, 60)                4560      \n",
            "                                                                 \n",
            " dense_4 (Dense)             (None, 50)                3050      \n",
            "                                                                 \n",
            " batch_normalization_2 (Batc  (None, 50)               200       \n",
            " hNormalization)                                                 \n",
            "                                                                 \n",
            " dropout_2 (Dropout)         (None, 50)                0         \n",
            "                                                                 \n",
            " dense_5 (Dense)             (None, 45)                2295      \n",
            "                                                                 \n",
            " dense_6 (Dense)             (None, 40)                1840      \n",
            "                                                                 \n",
            " batch_normalization_3 (Batc  (None, 40)               160       \n",
            " hNormalization)                                                 \n",
            "                                                                 \n",
            " dropout_3 (Dropout)         (None, 40)                0         \n",
            "                                                                 \n",
            " dense_7 (Dense)             (None, 30)                1230      \n",
            "                                                                 \n",
            " dense_8 (Dense)             (None, 20)                620       \n",
            "                                                                 \n",
            " batch_normalization_4 (Batc  (None, 20)               80        \n",
            " hNormalization)                                                 \n",
            "                                                                 \n",
            " dropout_4 (Dropout)         (None, 20)                0         \n",
            "                                                                 \n",
            " dense_9 (Dense)             (None, 13)                273       \n",
            "                                                                 \n",
            " dense_10 (Dense)            (None, 13)                182       \n",
            "                                                                 \n",
            " dense_11 (Dense)            (None, 1)                 14        \n",
            "                                                                 \n",
            "=================================================================\n",
            "Total params: 44,679\n",
            "Trainable params: 43,909\n",
            "Non-trainable params: 770\n",
            "_________________________________________________________________\n",
            "None\n"
          ]
        }
      ]
    },
    {
      "cell_type": "code",
      "source": [
        "model.compile(\n",
        "    optimizer=keras.optimizers.Adam(),\n",
        "    loss=keras.losses.MeanAbsoluteError(),\n",
        "    )"
      ],
      "metadata": {
        "id": "y4gxK50unYou"
      },
      "execution_count": 16,
      "outputs": []
    },
    {
      "cell_type": "code",
      "source": [
        "#Обучаем модель\n",
        "model.fit(x_train, y_train, batch_size=128, epochs=87, validation_data=(x_test, y_test))"
      ],
      "metadata": {
        "colab": {
          "base_uri": "https://localhost:8080/"
        },
        "id": "BkPTKiMrnbJ0",
        "outputId": "844e3015-493d-47a5-cc60-141d5f15fa85"
      },
      "execution_count": 17,
      "outputs": [
        {
          "output_type": "stream",
          "name": "stdout",
          "text": [
            "Epoch 1/87\n",
            "168/168 [==============================] - 15s 29ms/step - loss: 0.2961 - val_loss: 0.0907\n",
            "Epoch 2/87\n",
            "168/168 [==============================] - 1s 9ms/step - loss: 0.0560 - val_loss: 0.0261\n",
            "Epoch 3/87\n",
            "168/168 [==============================] - 1s 9ms/step - loss: 0.0249 - val_loss: 0.0205\n",
            "Epoch 4/87\n",
            "168/168 [==============================] - 1s 9ms/step - loss: 0.0204 - val_loss: 0.0173\n",
            "Epoch 5/87\n",
            "168/168 [==============================] - 1s 8ms/step - loss: 0.0185 - val_loss: 0.0160\n",
            "Epoch 6/87\n",
            "168/168 [==============================] - 1s 8ms/step - loss: 0.0172 - val_loss: 0.0150\n",
            "Epoch 7/87\n",
            "168/168 [==============================] - 1s 9ms/step - loss: 0.0164 - val_loss: 0.0140\n",
            "Epoch 8/87\n",
            "168/168 [==============================] - 2s 10ms/step - loss: 0.0158 - val_loss: 0.0135\n",
            "Epoch 9/87\n",
            "168/168 [==============================] - 2s 13ms/step - loss: 0.0152 - val_loss: 0.0129\n",
            "Epoch 10/87\n",
            "168/168 [==============================] - 2s 13ms/step - loss: 0.0148 - val_loss: 0.0127\n",
            "Epoch 11/87\n",
            "168/168 [==============================] - 1s 9ms/step - loss: 0.0144 - val_loss: 0.0121\n",
            "Epoch 12/87\n",
            "168/168 [==============================] - 1s 9ms/step - loss: 0.0143 - val_loss: 0.0118\n",
            "Epoch 13/87\n",
            "168/168 [==============================] - 1s 9ms/step - loss: 0.0140 - val_loss: 0.0118\n",
            "Epoch 14/87\n",
            "168/168 [==============================] - 1s 9ms/step - loss: 0.0138 - val_loss: 0.0115\n",
            "Epoch 15/87\n",
            "168/168 [==============================] - 1s 9ms/step - loss: 0.0136 - val_loss: 0.0114\n",
            "Epoch 16/87\n",
            "168/168 [==============================] - 1s 8ms/step - loss: 0.0134 - val_loss: 0.0115\n",
            "Epoch 17/87\n",
            "168/168 [==============================] - 2s 10ms/step - loss: 0.0133 - val_loss: 0.0114\n",
            "Epoch 18/87\n",
            "168/168 [==============================] - 2s 13ms/step - loss: 0.0132 - val_loss: 0.0111\n",
            "Epoch 19/87\n",
            "168/168 [==============================] - 2s 13ms/step - loss: 0.0132 - val_loss: 0.0112\n",
            "Epoch 20/87\n",
            "168/168 [==============================] - 1s 9ms/step - loss: 0.0131 - val_loss: 0.0112\n",
            "Epoch 21/87\n",
            "168/168 [==============================] - 1s 8ms/step - loss: 0.0131 - val_loss: 0.0111\n",
            "Epoch 22/87\n",
            "168/168 [==============================] - 1s 9ms/step - loss: 0.0130 - val_loss: 0.0110\n",
            "Epoch 23/87\n",
            "168/168 [==============================] - 1s 9ms/step - loss: 0.0129 - val_loss: 0.0111\n",
            "Epoch 24/87\n",
            "168/168 [==============================] - 1s 8ms/step - loss: 0.0129 - val_loss: 0.0113\n",
            "Epoch 25/87\n",
            "168/168 [==============================] - 1s 9ms/step - loss: 0.0129 - val_loss: 0.0113\n",
            "Epoch 26/87\n",
            "168/168 [==============================] - 1s 9ms/step - loss: 0.0128 - val_loss: 0.0110\n",
            "Epoch 27/87\n",
            "168/168 [==============================] - 2s 14ms/step - loss: 0.0128 - val_loss: 0.0109\n",
            "Epoch 28/87\n",
            "168/168 [==============================] - 2s 13ms/step - loss: 0.0128 - val_loss: 0.0108\n",
            "Epoch 29/87\n",
            "168/168 [==============================] - 2s 10ms/step - loss: 0.0128 - val_loss: 0.0108\n",
            "Epoch 30/87\n",
            "168/168 [==============================] - 1s 9ms/step - loss: 0.0128 - val_loss: 0.0108\n",
            "Epoch 31/87\n",
            "168/168 [==============================] - 1s 9ms/step - loss: 0.0128 - val_loss: 0.0109\n",
            "Epoch 32/87\n",
            "168/168 [==============================] - 1s 9ms/step - loss: 0.0127 - val_loss: 0.0109\n",
            "Epoch 33/87\n",
            "168/168 [==============================] - 1s 9ms/step - loss: 0.0128 - val_loss: 0.0110\n",
            "Epoch 34/87\n",
            "168/168 [==============================] - 1s 9ms/step - loss: 0.0128 - val_loss: 0.0109\n",
            "Epoch 35/87\n",
            "168/168 [==============================] - 2s 9ms/step - loss: 0.0127 - val_loss: 0.0111\n",
            "Epoch 36/87\n",
            "168/168 [==============================] - 2s 13ms/step - loss: 0.0127 - val_loss: 0.0108\n",
            "Epoch 37/87\n",
            "168/168 [==============================] - 2s 14ms/step - loss: 0.0127 - val_loss: 0.0109\n",
            "Epoch 38/87\n",
            "168/168 [==============================] - 2s 9ms/step - loss: 0.0127 - val_loss: 0.0109\n",
            "Epoch 39/87\n",
            "168/168 [==============================] - 1s 9ms/step - loss: 0.0127 - val_loss: 0.0110\n",
            "Epoch 40/87\n",
            "168/168 [==============================] - 1s 8ms/step - loss: 0.0127 - val_loss: 0.0108\n",
            "Epoch 41/87\n",
            "168/168 [==============================] - 1s 9ms/step - loss: 0.0126 - val_loss: 0.0108\n",
            "Epoch 42/87\n",
            "168/168 [==============================] - 1s 9ms/step - loss: 0.0127 - val_loss: 0.0109\n",
            "Epoch 43/87\n",
            "168/168 [==============================] - 1s 9ms/step - loss: 0.0126 - val_loss: 0.0109\n",
            "Epoch 44/87\n",
            "168/168 [==============================] - 1s 9ms/step - loss: 0.0127 - val_loss: 0.0108\n",
            "Epoch 45/87\n",
            "168/168 [==============================] - 2s 13ms/step - loss: 0.0127 - val_loss: 0.0106\n",
            "Epoch 46/87\n",
            "168/168 [==============================] - 2s 13ms/step - loss: 0.0127 - val_loss: 0.0107\n",
            "Epoch 47/87\n",
            "168/168 [==============================] - 2s 9ms/step - loss: 0.0127 - val_loss: 0.0107\n",
            "Epoch 48/87\n",
            "168/168 [==============================] - 1s 9ms/step - loss: 0.0127 - val_loss: 0.0107\n",
            "Epoch 49/87\n",
            "168/168 [==============================] - 1s 9ms/step - loss: 0.0126 - val_loss: 0.0107\n",
            "Epoch 50/87\n",
            "168/168 [==============================] - 2s 9ms/step - loss: 0.0126 - val_loss: 0.0108\n",
            "Epoch 51/87\n",
            "168/168 [==============================] - 2s 9ms/step - loss: 0.0126 - val_loss: 0.0106\n",
            "Epoch 52/87\n",
            "168/168 [==============================] - 1s 9ms/step - loss: 0.0126 - val_loss: 0.0108\n",
            "Epoch 53/87\n",
            "168/168 [==============================] - 2s 9ms/step - loss: 0.0126 - val_loss: 0.0107\n",
            "Epoch 54/87\n",
            "168/168 [==============================] - 2s 14ms/step - loss: 0.0127 - val_loss: 0.0107\n",
            "Epoch 55/87\n",
            "168/168 [==============================] - 2s 14ms/step - loss: 0.0126 - val_loss: 0.0110\n",
            "Epoch 56/87\n",
            "168/168 [==============================] - 2s 9ms/step - loss: 0.0126 - val_loss: 0.0109\n",
            "Epoch 57/87\n",
            "168/168 [==============================] - 1s 9ms/step - loss: 0.0127 - val_loss: 0.0105\n",
            "Epoch 58/87\n",
            "168/168 [==============================] - 1s 9ms/step - loss: 0.0126 - val_loss: 0.0109\n",
            "Epoch 59/87\n",
            "168/168 [==============================] - 1s 9ms/step - loss: 0.0126 - val_loss: 0.0108\n",
            "Epoch 60/87\n",
            "168/168 [==============================] - 1s 9ms/step - loss: 0.0126 - val_loss: 0.0109\n",
            "Epoch 61/87\n",
            "168/168 [==============================] - 2s 12ms/step - loss: 0.0126 - val_loss: 0.0109\n",
            "Epoch 62/87\n",
            "168/168 [==============================] - 2s 11ms/step - loss: 0.0126 - val_loss: 0.0106\n",
            "Epoch 63/87\n",
            "168/168 [==============================] - 2s 13ms/step - loss: 0.0126 - val_loss: 0.0107\n",
            "Epoch 64/87\n",
            "168/168 [==============================] - 2s 12ms/step - loss: 0.0126 - val_loss: 0.0107\n",
            "Epoch 65/87\n",
            "168/168 [==============================] - 1s 8ms/step - loss: 0.0126 - val_loss: 0.0108\n",
            "Epoch 66/87\n",
            "168/168 [==============================] - 1s 8ms/step - loss: 0.0126 - val_loss: 0.0108\n",
            "Epoch 67/87\n",
            "168/168 [==============================] - 1s 9ms/step - loss: 0.0126 - val_loss: 0.0107\n",
            "Epoch 68/87\n",
            "168/168 [==============================] - 1s 9ms/step - loss: 0.0126 - val_loss: 0.0105\n",
            "Epoch 69/87\n",
            "168/168 [==============================] - 1s 8ms/step - loss: 0.0126 - val_loss: 0.0105\n",
            "Epoch 70/87\n",
            "168/168 [==============================] - 1s 8ms/step - loss: 0.0126 - val_loss: 0.0105\n",
            "Epoch 71/87\n",
            "168/168 [==============================] - 2s 9ms/step - loss: 0.0126 - val_loss: 0.0108\n",
            "Epoch 72/87\n",
            "168/168 [==============================] - 2s 13ms/step - loss: 0.0126 - val_loss: 0.0107\n",
            "Epoch 73/87\n",
            "168/168 [==============================] - 2s 13ms/step - loss: 0.0126 - val_loss: 0.0109\n",
            "Epoch 74/87\n",
            "168/168 [==============================] - 1s 9ms/step - loss: 0.0126 - val_loss: 0.0109\n",
            "Epoch 75/87\n",
            "168/168 [==============================] - 1s 9ms/step - loss: 0.0126 - val_loss: 0.0107\n",
            "Epoch 76/87\n",
            "168/168 [==============================] - 2s 12ms/step - loss: 0.0126 - val_loss: 0.0107\n",
            "Epoch 77/87\n",
            "168/168 [==============================] - 2s 12ms/step - loss: 0.0126 - val_loss: 0.0106\n",
            "Epoch 78/87\n",
            "168/168 [==============================] - 1s 9ms/step - loss: 0.0126 - val_loss: 0.0104\n",
            "Epoch 79/87\n",
            "168/168 [==============================] - 2s 9ms/step - loss: 0.0126 - val_loss: 0.0106\n",
            "Epoch 80/87\n",
            "168/168 [==============================] - 2s 13ms/step - loss: 0.0126 - val_loss: 0.0107\n",
            "Epoch 81/87\n",
            "168/168 [==============================] - 2s 13ms/step - loss: 0.0126 - val_loss: 0.0106\n",
            "Epoch 82/87\n",
            "168/168 [==============================] - 2s 10ms/step - loss: 0.0126 - val_loss: 0.0106\n",
            "Epoch 83/87\n",
            "168/168 [==============================] - 1s 9ms/step - loss: 0.0125 - val_loss: 0.0106\n",
            "Epoch 84/87\n",
            "168/168 [==============================] - 1s 9ms/step - loss: 0.0126 - val_loss: 0.0107\n",
            "Epoch 85/87\n",
            "168/168 [==============================] - 1s 9ms/step - loss: 0.0125 - val_loss: 0.0108\n",
            "Epoch 86/87\n",
            "168/168 [==============================] - 1s 9ms/step - loss: 0.0125 - val_loss: 0.0108\n",
            "Epoch 87/87\n",
            "168/168 [==============================] - 1s 8ms/step - loss: 0.0125 - val_loss: 0.0107\n"
          ]
        },
        {
          "output_type": "execute_result",
          "data": {
            "text/plain": [
              "<keras.callbacks.History at 0x7f1a5a841ff0>"
            ]
          },
          "metadata": {},
          "execution_count": 17
        }
      ]
    },
    {
      "cell_type": "code",
      "source": [
        "#Производим прогнозирование на тестовых данных\n",
        "y_tst = submission[\"demand\"]\n",
        "#df['Discont']=df['PRICE_REGULAR']-df['PRICE_AFTER_DISC']\n",
        "df1['year'] = df1['period_dt'].dt.year\n",
        "df1['days'] = df1['period_dt'].dt.day\n",
        "df1['week_number'] = df1['period_dt'].dt.isocalendar().week\n",
        "\n",
        "x_tst = df1.drop([ \"period_dt\"], axis=1)"
      ],
      "metadata": {
        "id": "SlqtLsohnnmT"
      },
      "execution_count": 18,
      "outputs": []
    },
    {
      "cell_type": "code",
      "source": [
        "x_tst = tf.convert_to_tensor(x_tst.astype(float)) / x_norm"
      ],
      "metadata": {
        "id": "7iamkRcfnwoO"
      },
      "execution_count": 19,
      "outputs": []
    },
    {
      "cell_type": "code",
      "source": [
        "y_pr = model.predict(x_tst)"
      ],
      "metadata": {
        "colab": {
          "base_uri": "https://localhost:8080/"
        },
        "id": "AKUccSCFnzE8",
        "outputId": "241d5e5e-2052-4001-c068-67462dae06b3"
      },
      "execution_count": 20,
      "outputs": [
        {
          "output_type": "stream",
          "name": "stdout",
          "text": [
            "19/19 [==============================] - 0s 2ms/step\n"
          ]
        }
      ]
    },
    {
      "cell_type": "code",
      "source": [
        "test[\"demand\"] = y_pr * y_norm"
      ],
      "metadata": {
        "id": "K18f2iAwn17Z"
      },
      "execution_count": 21,
      "outputs": []
    },
    {
      "cell_type": "code",
      "source": [
        "submission[\"demand\"] = test.sort_values(\"id\")[\"demand\"]"
      ],
      "metadata": {
        "id": "lye0LSmzn59F"
      },
      "execution_count": 22,
      "outputs": []
    },
    {
      "cell_type": "code",
      "source": [
        "submission.to_csv(\"Result.csv\", index = False)"
      ],
      "metadata": {
        "id": "Z8uGU8Zdn8P5"
      },
      "execution_count": 23,
      "outputs": []
    },
    {
      "cell_type": "code",
      "source": [
        "submission"
      ],
      "metadata": {
        "colab": {
          "base_uri": "https://localhost:8080/",
          "height": 411
        },
        "id": "rzXoUNidn_sd",
        "outputId": "7dc55123-0054-4124-8c82-4794172e838d"
      },
      "execution_count": 24,
      "outputs": [
        {
          "output_type": "execute_result",
          "data": {
            "text/plain": [
              "         id  demand\n",
              "0        16  1.0002\n",
              "1      7867  1.0002\n",
              "2      8667  1.0002\n",
              "3     14835  1.0002\n",
              "4     14959  1.0002\n",
              "..      ...     ...\n",
              "588  203996  1.0002\n",
              "589  203997  1.0002\n",
              "590  204035  1.0002\n",
              "591  204037  1.0002\n",
              "592  204065  1.0002\n",
              "\n",
              "[593 rows x 2 columns]"
            ],
            "text/html": [
              "\n",
              "  <div id=\"df-20830d2f-399f-490c-b931-676c41e94d55\">\n",
              "    <div class=\"colab-df-container\">\n",
              "      <div>\n",
              "<style scoped>\n",
              "    .dataframe tbody tr th:only-of-type {\n",
              "        vertical-align: middle;\n",
              "    }\n",
              "\n",
              "    .dataframe tbody tr th {\n",
              "        vertical-align: top;\n",
              "    }\n",
              "\n",
              "    .dataframe thead th {\n",
              "        text-align: right;\n",
              "    }\n",
              "</style>\n",
              "<table border=\"1\" class=\"dataframe\">\n",
              "  <thead>\n",
              "    <tr style=\"text-align: right;\">\n",
              "      <th></th>\n",
              "      <th>id</th>\n",
              "      <th>demand</th>\n",
              "    </tr>\n",
              "  </thead>\n",
              "  <tbody>\n",
              "    <tr>\n",
              "      <th>0</th>\n",
              "      <td>16</td>\n",
              "      <td>1.0002</td>\n",
              "    </tr>\n",
              "    <tr>\n",
              "      <th>1</th>\n",
              "      <td>7867</td>\n",
              "      <td>1.0002</td>\n",
              "    </tr>\n",
              "    <tr>\n",
              "      <th>2</th>\n",
              "      <td>8667</td>\n",
              "      <td>1.0002</td>\n",
              "    </tr>\n",
              "    <tr>\n",
              "      <th>3</th>\n",
              "      <td>14835</td>\n",
              "      <td>1.0002</td>\n",
              "    </tr>\n",
              "    <tr>\n",
              "      <th>4</th>\n",
              "      <td>14959</td>\n",
              "      <td>1.0002</td>\n",
              "    </tr>\n",
              "    <tr>\n",
              "      <th>...</th>\n",
              "      <td>...</td>\n",
              "      <td>...</td>\n",
              "    </tr>\n",
              "    <tr>\n",
              "      <th>588</th>\n",
              "      <td>203996</td>\n",
              "      <td>1.0002</td>\n",
              "    </tr>\n",
              "    <tr>\n",
              "      <th>589</th>\n",
              "      <td>203997</td>\n",
              "      <td>1.0002</td>\n",
              "    </tr>\n",
              "    <tr>\n",
              "      <th>590</th>\n",
              "      <td>204035</td>\n",
              "      <td>1.0002</td>\n",
              "    </tr>\n",
              "    <tr>\n",
              "      <th>591</th>\n",
              "      <td>204037</td>\n",
              "      <td>1.0002</td>\n",
              "    </tr>\n",
              "    <tr>\n",
              "      <th>592</th>\n",
              "      <td>204065</td>\n",
              "      <td>1.0002</td>\n",
              "    </tr>\n",
              "  </tbody>\n",
              "</table>\n",
              "<p>593 rows × 2 columns</p>\n",
              "</div>\n",
              "      <button class=\"colab-df-convert\" onclick=\"convertToInteractive('df-20830d2f-399f-490c-b931-676c41e94d55')\"\n",
              "              title=\"Convert this dataframe to an interactive table.\"\n",
              "              style=\"display:none;\">\n",
              "        \n",
              "  <svg xmlns=\"http://www.w3.org/2000/svg\" height=\"24px\"viewBox=\"0 0 24 24\"\n",
              "       width=\"24px\">\n",
              "    <path d=\"M0 0h24v24H0V0z\" fill=\"none\"/>\n",
              "    <path d=\"M18.56 5.44l.94 2.06.94-2.06 2.06-.94-2.06-.94-.94-2.06-.94 2.06-2.06.94zm-11 1L8.5 8.5l.94-2.06 2.06-.94-2.06-.94L8.5 2.5l-.94 2.06-2.06.94zm10 10l.94 2.06.94-2.06 2.06-.94-2.06-.94-.94-2.06-.94 2.06-2.06.94z\"/><path d=\"M17.41 7.96l-1.37-1.37c-.4-.4-.92-.59-1.43-.59-.52 0-1.04.2-1.43.59L10.3 9.45l-7.72 7.72c-.78.78-.78 2.05 0 2.83L4 21.41c.39.39.9.59 1.41.59.51 0 1.02-.2 1.41-.59l7.78-7.78 2.81-2.81c.8-.78.8-2.07 0-2.86zM5.41 20L4 18.59l7.72-7.72 1.47 1.35L5.41 20z\"/>\n",
              "  </svg>\n",
              "      </button>\n",
              "      \n",
              "  <style>\n",
              "    .colab-df-container {\n",
              "      display:flex;\n",
              "      flex-wrap:wrap;\n",
              "      gap: 12px;\n",
              "    }\n",
              "\n",
              "    .colab-df-convert {\n",
              "      background-color: #E8F0FE;\n",
              "      border: none;\n",
              "      border-radius: 50%;\n",
              "      cursor: pointer;\n",
              "      display: none;\n",
              "      fill: #1967D2;\n",
              "      height: 32px;\n",
              "      padding: 0 0 0 0;\n",
              "      width: 32px;\n",
              "    }\n",
              "\n",
              "    .colab-df-convert:hover {\n",
              "      background-color: #E2EBFA;\n",
              "      box-shadow: 0px 1px 2px rgba(60, 64, 67, 0.3), 0px 1px 3px 1px rgba(60, 64, 67, 0.15);\n",
              "      fill: #174EA6;\n",
              "    }\n",
              "\n",
              "    [theme=dark] .colab-df-convert {\n",
              "      background-color: #3B4455;\n",
              "      fill: #D2E3FC;\n",
              "    }\n",
              "\n",
              "    [theme=dark] .colab-df-convert:hover {\n",
              "      background-color: #434B5C;\n",
              "      box-shadow: 0px 1px 3px 1px rgba(0, 0, 0, 0.15);\n",
              "      filter: drop-shadow(0px 1px 2px rgba(0, 0, 0, 0.3));\n",
              "      fill: #FFFFFF;\n",
              "    }\n",
              "  </style>\n",
              "\n",
              "      <script>\n",
              "        const buttonEl =\n",
              "          document.querySelector('#df-20830d2f-399f-490c-b931-676c41e94d55 button.colab-df-convert');\n",
              "        buttonEl.style.display =\n",
              "          google.colab.kernel.accessAllowed ? 'block' : 'none';\n",
              "\n",
              "        async function convertToInteractive(key) {\n",
              "          const element = document.querySelector('#df-20830d2f-399f-490c-b931-676c41e94d55');\n",
              "          const dataTable =\n",
              "            await google.colab.kernel.invokeFunction('convertToInteractive',\n",
              "                                                     [key], {});\n",
              "          if (!dataTable) return;\n",
              "\n",
              "          const docLinkHtml = 'Like what you see? Visit the ' +\n",
              "            '<a target=\"_blank\" href=https://colab.research.google.com/notebooks/data_table.ipynb>data table notebook</a>'\n",
              "            + ' to learn more about interactive tables.';\n",
              "          element.innerHTML = '';\n",
              "          dataTable['output_type'] = 'display_data';\n",
              "          await google.colab.output.renderOutput(dataTable, element);\n",
              "          const docLink = document.createElement('div');\n",
              "          docLink.innerHTML = docLinkHtml;\n",
              "          element.appendChild(docLink);\n",
              "        }\n",
              "      </script>\n",
              "    </div>\n",
              "  </div>\n",
              "  "
            ]
          },
          "metadata": {},
          "execution_count": 24
        }
      ]
    },
    {
      "cell_type": "code",
      "source": [],
      "metadata": {
        "id": "tBX4X_ZtxhYB"
      },
      "execution_count": 24,
      "outputs": []
    },
    {
      "cell_type": "code",
      "source": [],
      "metadata": {
        "id": "E_mrrR9-6pkb"
      },
      "execution_count": 24,
      "outputs": []
    }
  ]
}