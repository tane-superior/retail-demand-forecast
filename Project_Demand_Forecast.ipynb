{
  "nbformat": 4,
  "nbformat_minor": 0,
  "metadata": {
    "colab": {
      "provenance": [],
      "toc_visible": true
    },
    "kernelspec": {
      "name": "python3",
      "display_name": "Python 3"
    },
    "language_info": {
      "name": "python"
    }
  },
  "cells": [
    {
      "cell_type": "code",
      "execution_count": 1,
      "metadata": {
        "colab": {
          "base_uri": "https://localhost:8080/"
        },
        "id": "TFGlB9RciO7q",
        "outputId": "47b6bfe8-2787-47bf-94af-f660914a6656"
      },
      "outputs": [
        {
          "output_type": "stream",
          "name": "stdout",
          "text": [
            "Mounted at /content/drive\n"
          ]
        }
      ],
      "source": [
        "from google.colab import drive; drive.mount('/content/drive')"
      ]
    },
    {
      "cell_type": "code",
      "source": [
        "#Импортируем необходимые библиотеки\n",
        "import numpy as np\n",
        "import pandas as pd\n",
        "import datetime"
      ],
      "metadata": {
        "id": "z0MnGGMfihxe"
      },
      "execution_count": 2,
      "outputs": []
    },
    {
      "cell_type": "code",
      "source": [
        "#Загружаем данные\n",
        "train = pd.read_csv(\"/content/drive/MyDrive/train.csv\")\n",
        "test = pd.read_csv(\"/content/drive/MyDrive/test.csv\")\n",
        "submission = pd.read_csv(\"/content/drive/MyDrive/sample_submission.csv\")\n",
        "submission[\"demand\"] = submission[\"demand\"].astype(float)"
      ],
      "metadata": {
        "id": "CIUDDArjiq86"
      },
      "execution_count": 3,
      "outputs": []
    },
    {
      "cell_type": "markdown",
      "source": [
        "Формируем обучающую и тестовыю выборки"
      ],
      "metadata": {
        "id": "aR3dO33Zis3e"
      }
    },
    {
      "cell_type": "code",
      "source": [
        "#Обучающаяя\n",
        "df = train.copy()\n",
        "df=df.dropna(subset=['demand'])#Удаляем с пустым demand\n",
        "df=df.dropna(subset=['PRICE_REGULAR'])#Удаляем с пустой ценой\n",
        "df[\"product_id\"] = df[\"product_id\"].astype(int)#все в int!\n",
        "df[\"location_id\"] = df[\"location_id\"].astype(int)\n",
        "df[\"period_dt\"] = pd.to_datetime(df[\"period_dt\"], dayfirst=True)#На всякий случай в datetime"
      ],
      "metadata": {
        "id": "q5HlMRPWizDB"
      },
      "execution_count": 4,
      "outputs": []
    },
    {
      "cell_type": "code",
      "source": [
        "df=df[(pd.DatetimeIndex(df['period_dt']).month ==12)]#Оставляем только декабрь"
      ],
      "metadata": {
        "id": "UYRTSXtTjLSg"
      },
      "execution_count": 5,
      "outputs": []
    },
    {
      "cell_type": "code",
      "source": [
        "#Тестовая\n",
        "test = pd.read_csv(\"/content/drive/MyDrive/test.csv\")\n",
        "df1 = test.copy()\n",
        "df1[\"period_dt\"] = pd.to_datetime(df1[\"period_dt\"], dayfirst=True)"
      ],
      "metadata": {
        "id": "CMbGcmr0jXL9"
      },
      "execution_count": 6,
      "outputs": []
    },
    {
      "cell_type": "markdown",
      "source": [
        "Формируем новые признаки"
      ],
      "metadata": {
        "id": "PtbO--9llPXs"
      }
    },
    {
      "cell_type": "code",
      "source": [
        "df['year'] = df['period_dt'].dt.year#Год\n",
        "df['days'] = df['period_dt'].dt.day#день\n",
        "df['week_number'] = df['period_dt'].dt.isocalendar().week#номер недели"
      ],
      "metadata": {
        "id": "C9ljcljVlNe6",
        "colab": {
          "base_uri": "https://localhost:8080/"
        },
        "outputId": "91034b50-7a99-4a28-89cb-353d06ca2b13"
      },
      "execution_count": 7,
      "outputs": [
        {
          "output_type": "stream",
          "name": "stderr",
          "text": [
            "<ipython-input-7-c2f6d401ab44>:1: SettingWithCopyWarning: \n",
            "A value is trying to be set on a copy of a slice from a DataFrame.\n",
            "Try using .loc[row_indexer,col_indexer] = value instead\n",
            "\n",
            "See the caveats in the documentation: https://pandas.pydata.org/pandas-docs/stable/user_guide/indexing.html#returning-a-view-versus-a-copy\n",
            "  df['year'] = df['period_dt'].dt.year#Год\n",
            "<ipython-input-7-c2f6d401ab44>:2: SettingWithCopyWarning: \n",
            "A value is trying to be set on a copy of a slice from a DataFrame.\n",
            "Try using .loc[row_indexer,col_indexer] = value instead\n",
            "\n",
            "See the caveats in the documentation: https://pandas.pydata.org/pandas-docs/stable/user_guide/indexing.html#returning-a-view-versus-a-copy\n",
            "  df['days'] = df['period_dt'].dt.day#день\n",
            "<ipython-input-7-c2f6d401ab44>:3: SettingWithCopyWarning: \n",
            "A value is trying to be set on a copy of a slice from a DataFrame.\n",
            "Try using .loc[row_indexer,col_indexer] = value instead\n",
            "\n",
            "See the caveats in the documentation: https://pandas.pydata.org/pandas-docs/stable/user_guide/indexing.html#returning-a-view-versus-a-copy\n",
            "  df['week_number'] = df['period_dt'].dt.isocalendar().week#номер недели\n"
          ]
        }
      ]
    },
    {
      "cell_type": "markdown",
      "source": [
        "Удаляем из тренировочной признаки, которых нет в тестовой"
      ],
      "metadata": {
        "id": "3_Ni-1Hnk02r"
      }
    },
    {
      "cell_type": "code",
      "source": [
        "#Целевой признак для обучения\n",
        "y = df[\"demand\"]\n",
        "#Формируем обучающие переменные\n",
        "x = df.drop(['demand', 'PROMO1_FLAG','PROMO2_FLAG','PRICE_REGULAR','PRICE_AFTER_DISC','NUM_CONSULTANT','AUTORIZATION_FLAG','period_dt'], axis=1)"
      ],
      "metadata": {
        "id": "tA2k0IhIk_gm"
      },
      "execution_count": 8,
      "outputs": []
    },
    {
      "cell_type": "code",
      "source": [
        "#Разделяем выборки на обучающую и тестовую\n",
        "from sklearn.model_selection import train_test_split\n",
        "x_train, x_test, y_train, y_test = train_test_split(x, y, test_size=0.01)"
      ],
      "metadata": {
        "id": "fvue0zQ7nE0d"
      },
      "execution_count": 9,
      "outputs": []
    },
    {
      "cell_type": "code",
      "source": [
        "import tensorflow as tf\n",
        "from tensorflow import keras\n",
        "from tensorflow.keras import layers"
      ],
      "metadata": {
        "id": "15ViSU-6nILw"
      },
      "execution_count": 10,
      "outputs": []
    },
    {
      "cell_type": "code",
      "source": [
        "#Конвертируем выборки в тензоры\n",
        "x_train = tf.convert_to_tensor(x_train.astype(float))\n",
        "y_train = tf.convert_to_tensor(y_train.astype(float))\n",
        "x_test = tf.convert_to_tensor(x_test.astype(float))\n",
        "y_test = tf.convert_to_tensor(y_test.astype(float))"
      ],
      "metadata": {
        "id": "pf4em_9rnK6i"
      },
      "execution_count": 11,
      "outputs": []
    },
    {
      "cell_type": "code",
      "source": [
        "#Вычисляем нормы по переменным\n",
        "x_norm = tf.linalg.norm(x_train, ord=np.inf, axis=0)\n",
        "y_norm = tf.linalg.norm(y_train, ord=np.inf, axis=0)"
      ],
      "metadata": {
        "id": "acPWI-HanNJ2"
      },
      "execution_count": 12,
      "outputs": []
    },
    {
      "cell_type": "code",
      "source": [
        "#Нормируем выборки\n",
        "x_train = x_train / x_norm\n",
        "y_train = y_train / y_norm\n",
        "\n",
        "x_test = x_test / x_norm\n",
        "y_test = y_test / y_norm"
      ],
      "metadata": {
        "id": "Ir_Chvo-nPbE"
      },
      "execution_count": 13,
      "outputs": []
    },
    {
      "cell_type": "code",
      "source": [
        "#Формируем модель нейросети\n",
        "model = keras.Sequential()\n",
        "model.add(keras.Input(shape=(x_train.shape[1],)))\n",
        "model.add(layers.Dense(200, activation=\"relu\"))\n",
        "model.add(keras.layers.BatchNormalization(axis=1))\n",
        "model.add(layers.Dropout(0.3))\n",
        "model.add(layers.Dense(100, activation=\"relu\"))\n",
        "model.add(layers.Dense(75, activation=\"relu\"))\n",
        "model.add(keras.layers.BatchNormalization(axis=1))\n",
        "model.add(layers.Dropout(0.3))\n",
        "model.add(layers.Dense(60, activation=\"relu\"))\n",
        "model.add(layers.Dense(50, activation=\"relu\"))\n",
        "model.add(keras.layers.BatchNormalization(axis=1))\n",
        "model.add(layers.Dropout(0.3))\n",
        "model.add(layers.Dense(45, activation=\"sigmoid\"))\n",
        "model.add(layers.Dense(40, activation=\"sigmoid\"))\n",
        "model.add(keras.layers.BatchNormalization(axis=1))\n",
        "model.add(layers.Dropout(0.3))\n",
        "model.add(layers.Dense(30, activation=\"sigmoid\"))\n",
        "model.add(layers.Dense(20, activation=\"sigmoid\"))\n",
        "model.add(keras.layers.BatchNormalization(axis=1))\n",
        "model.add(layers.Dropout(0.3))\n",
        "model.add(layers.Dense(13, activation=\"sigmoid\"))\n",
        "model.add(layers.Dense(13, activation=\"sigmoid\"))\n",
        "model.add(layers.Dense(1, activation=\"sigmoid\"))"
      ],
      "metadata": {
        "id": "JDZWnPwonSjQ"
      },
      "execution_count": 14,
      "outputs": []
    },
    {
      "cell_type": "code",
      "source": [
        "model.build()\n",
        "print(model.summary())"
      ],
      "metadata": {
        "colab": {
          "base_uri": "https://localhost:8080/"
        },
        "id": "zpsuxEd2nV3I",
        "outputId": "5105918f-6f30-4b64-b0e3-4bbab808dbc1"
      },
      "execution_count": 15,
      "outputs": [
        {
          "output_type": "stream",
          "name": "stdout",
          "text": [
            "Model: \"sequential\"\n",
            "_________________________________________________________________\n",
            " Layer (type)                Output Shape              Param #   \n",
            "=================================================================\n",
            " dense (Dense)               (None, 200)               1400      \n",
            "                                                                 \n",
            " batch_normalization (BatchN  (None, 200)              800       \n",
            " ormalization)                                                   \n",
            "                                                                 \n",
            " dropout (Dropout)           (None, 200)               0         \n",
            "                                                                 \n",
            " dense_1 (Dense)             (None, 100)               20100     \n",
            "                                                                 \n",
            " dense_2 (Dense)             (None, 75)                7575      \n",
            "                                                                 \n",
            " batch_normalization_1 (Batc  (None, 75)               300       \n",
            " hNormalization)                                                 \n",
            "                                                                 \n",
            " dropout_1 (Dropout)         (None, 75)                0         \n",
            "                                                                 \n",
            " dense_3 (Dense)             (None, 60)                4560      \n",
            "                                                                 \n",
            " dense_4 (Dense)             (None, 50)                3050      \n",
            "                                                                 \n",
            " batch_normalization_2 (Batc  (None, 50)               200       \n",
            " hNormalization)                                                 \n",
            "                                                                 \n",
            " dropout_2 (Dropout)         (None, 50)                0         \n",
            "                                                                 \n",
            " dense_5 (Dense)             (None, 45)                2295      \n",
            "                                                                 \n",
            " dense_6 (Dense)             (None, 40)                1840      \n",
            "                                                                 \n",
            " batch_normalization_3 (Batc  (None, 40)               160       \n",
            " hNormalization)                                                 \n",
            "                                                                 \n",
            " dropout_3 (Dropout)         (None, 40)                0         \n",
            "                                                                 \n",
            " dense_7 (Dense)             (None, 30)                1230      \n",
            "                                                                 \n",
            " dense_8 (Dense)             (None, 20)                620       \n",
            "                                                                 \n",
            " batch_normalization_4 (Batc  (None, 20)               80        \n",
            " hNormalization)                                                 \n",
            "                                                                 \n",
            " dropout_4 (Dropout)         (None, 20)                0         \n",
            "                                                                 \n",
            " dense_9 (Dense)             (None, 13)                273       \n",
            "                                                                 \n",
            " dense_10 (Dense)            (None, 13)                182       \n",
            "                                                                 \n",
            " dense_11 (Dense)            (None, 1)                 14        \n",
            "                                                                 \n",
            "=================================================================\n",
            "Total params: 44,679\n",
            "Trainable params: 43,909\n",
            "Non-trainable params: 770\n",
            "_________________________________________________________________\n",
            "None\n"
          ]
        }
      ]
    },
    {
      "cell_type": "code",
      "source": [
        "model.compile(\n",
        "    optimizer=keras.optimizers.Adam(),\n",
        "    loss=keras.losses.MeanAbsoluteError(),\n",
        "    )"
      ],
      "metadata": {
        "id": "y4gxK50unYou"
      },
      "execution_count": 16,
      "outputs": []
    },
    {
      "cell_type": "code",
      "source": [
        "#Обучаем модель\n",
        "model.fit(x_train, y_train, batch_size=128, epochs=86, validation_data=(x_test, y_test))"
      ],
      "metadata": {
        "colab": {
          "base_uri": "https://localhost:8080/"
        },
        "id": "BkPTKiMrnbJ0",
        "outputId": "9abbda0e-a215-4a30-ff94-42987d8a017b"
      },
      "execution_count": null,
      "outputs": [
        {
          "output_type": "stream",
          "name": "stdout",
          "text": [
            "Epoch 1/86\n",
            "168/168 [==============================] - 6s 10ms/step - loss: 0.1563 - val_loss: 0.0442\n",
            "Epoch 2/86\n",
            "168/168 [==============================] - 2s 11ms/step - loss: 0.0301 - val_loss: 0.0197\n",
            "Epoch 3/86\n",
            "168/168 [==============================] - 2s 13ms/step - loss: 0.0195 - val_loss: 0.0166\n",
            "Epoch 4/86\n",
            "168/168 [==============================] - 2s 10ms/step - loss: 0.0170 - val_loss: 0.0135\n",
            "Epoch 5/86\n",
            "168/168 [==============================] - 1s 8ms/step - loss: 0.0156 - val_loss: 0.0123\n",
            "Epoch 6/86\n",
            "168/168 [==============================] - 1s 8ms/step - loss: 0.0148 - val_loss: 0.0118\n",
            "Epoch 7/86\n",
            "168/168 [==============================] - 1s 8ms/step - loss: 0.0143 - val_loss: 0.0116\n",
            "Epoch 8/86\n",
            "168/168 [==============================] - 1s 8ms/step - loss: 0.0140 - val_loss: 0.0110\n",
            "Epoch 9/86\n",
            "168/168 [==============================] - 1s 8ms/step - loss: 0.0137 - val_loss: 0.0108\n",
            "Epoch 10/86\n",
            "168/168 [==============================] - 1s 8ms/step - loss: 0.0136 - val_loss: 0.0107\n",
            "Epoch 11/86\n",
            "168/168 [==============================] - 2s 9ms/step - loss: 0.0135 - val_loss: 0.0107\n",
            "Epoch 12/86\n",
            "168/168 [==============================] - 2s 12ms/step - loss: 0.0134 - val_loss: 0.0107\n",
            "Epoch 13/86\n",
            "168/168 [==============================] - 2s 12ms/step - loss: 0.0134 - val_loss: 0.0105\n",
            "Epoch 14/86\n",
            "168/168 [==============================] - 1s 8ms/step - loss: 0.0132 - val_loss: 0.0104\n",
            "Epoch 15/86\n",
            "168/168 [==============================] - 1s 8ms/step - loss: 0.0132 - val_loss: 0.0107\n",
            "Epoch 16/86\n",
            "168/168 [==============================] - 1s 8ms/step - loss: 0.0131 - val_loss: 0.0104\n",
            "Epoch 17/86\n",
            "168/168 [==============================] - 1s 8ms/step - loss: 0.0130 - val_loss: 0.0103\n",
            "Epoch 18/86\n",
            "168/168 [==============================] - 1s 8ms/step - loss: 0.0130 - val_loss: 0.0103\n",
            "Epoch 19/86\n",
            "168/168 [==============================] - 1s 8ms/step - loss: 0.0129 - val_loss: 0.0102\n",
            "Epoch 20/86\n",
            "168/168 [==============================] - 1s 8ms/step - loss: 0.0129 - val_loss: 0.0104\n",
            "Epoch 21/86\n",
            "168/168 [==============================] - 2s 13ms/step - loss: 0.0129 - val_loss: 0.0104\n",
            "Epoch 22/86\n",
            "168/168 [==============================] - 3s 19ms/step - loss: 0.0129 - val_loss: 0.0102\n",
            "Epoch 23/86\n",
            "168/168 [==============================] - 3s 16ms/step - loss: 0.0129 - val_loss: 0.0100\n",
            "Epoch 24/86\n",
            "168/168 [==============================] - 3s 16ms/step - loss: 0.0128 - val_loss: 0.0100\n",
            "Epoch 25/86\n",
            "168/168 [==============================] - 3s 15ms/step - loss: 0.0128 - val_loss: 0.0099\n",
            "Epoch 26/86\n",
            "168/168 [==============================] - 1s 9ms/step - loss: 0.0128 - val_loss: 0.0100\n",
            "Epoch 27/86\n",
            "168/168 [==============================] - 1s 8ms/step - loss: 0.0128 - val_loss: 0.0098\n",
            "Epoch 28/86\n",
            "168/168 [==============================] - ETA: 0s - loss: 0.0128"
          ]
        }
      ]
    },
    {
      "cell_type": "code",
      "source": [
        "#Производим прогнозирование на тестовых данных\n",
        "y_tst = submission[\"demand\"]\n",
        "#df['Discont']=df['PRICE_REGULAR']-df['PRICE_AFTER_DISC']\n",
        "df1['year'] = df1['period_dt'].dt.year\n",
        "df1['days'] = df1['period_dt'].dt.day\n",
        "df1['week_number'] = df1['period_dt'].dt.isocalendar().week\n",
        "\n",
        "x_tst = df1.drop([ \"period_dt\"], axis=1)"
      ],
      "metadata": {
        "id": "SlqtLsohnnmT"
      },
      "execution_count": null,
      "outputs": []
    },
    {
      "cell_type": "code",
      "source": [
        "x_tst = tf.convert_to_tensor(x_tst.astype(float)) / x_norm"
      ],
      "metadata": {
        "id": "7iamkRcfnwoO"
      },
      "execution_count": null,
      "outputs": []
    },
    {
      "cell_type": "code",
      "source": [
        "y_pr = model.predict(x_tst)"
      ],
      "metadata": {
        "id": "AKUccSCFnzE8"
      },
      "execution_count": null,
      "outputs": []
    },
    {
      "cell_type": "code",
      "source": [
        "test[\"demand\"] = y_pr * y_norm"
      ],
      "metadata": {
        "id": "K18f2iAwn17Z"
      },
      "execution_count": null,
      "outputs": []
    },
    {
      "cell_type": "code",
      "source": [
        "submission[\"demand\"] = test.sort_values(\"id\")[\"demand\"]"
      ],
      "metadata": {
        "id": "lye0LSmzn59F"
      },
      "execution_count": null,
      "outputs": []
    },
    {
      "cell_type": "code",
      "source": [
        "submission.to_csv(\"Result.csv\", index = False)"
      ],
      "metadata": {
        "id": "Z8uGU8Zdn8P5"
      },
      "execution_count": null,
      "outputs": []
    },
    {
      "cell_type": "code",
      "source": [
        "submission"
      ],
      "metadata": {
        "id": "rzXoUNidn_sd"
      },
      "execution_count": null,
      "outputs": []
    },
    {
      "cell_type": "code",
      "source": [],
      "metadata": {
        "id": "tBX4X_ZtxhYB"
      },
      "execution_count": null,
      "outputs": []
    },
    {
      "cell_type": "code",
      "source": [],
      "metadata": {
        "id": "E_mrrR9-6pkb"
      },
      "execution_count": null,
      "outputs": []
    }
  ]
}